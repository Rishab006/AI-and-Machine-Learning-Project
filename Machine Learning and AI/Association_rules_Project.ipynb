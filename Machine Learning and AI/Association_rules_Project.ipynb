{
 "cells": [
  {
   "cell_type": "code",
   "execution_count": 2,
   "id": "4fca7333-fbc6-4695-b716-a9def4fdd669",
   "metadata": {},
   "outputs": [],
   "source": [
    "#Import Necessary Libraries\n",
    "import pandas as pd\n",
    "import matplotlib.pyplot as plt\n",
    "from mlxtend.frequent_patterns import apriori, fpgrowth, association_rules\n",
    "import time\n",
    "import numpy as np"
   ]
  },
  {
   "cell_type": "code",
   "execution_count": 3,
   "id": "b9aa5a2e-8141-415d-a59f-c79836a66915",
   "metadata": {},
   "outputs": [],
   "source": [
    "#Load Dataset\n",
    "grocery_df = pd.read_csv(\"groceries.csv\")"
   ]
  },
  {
   "cell_type": "code",
   "execution_count": 4,
   "id": "34dfb3d6-7e64-493c-85a8-aa2a3810e45c",
   "metadata": {},
   "outputs": [
    {
     "data": {
      "text/plain": [
       "(9835, 169)"
      ]
     },
     "execution_count": 4,
     "metadata": {},
     "output_type": "execute_result"
    }
   ],
   "source": [
    "#Check Shape \n",
    "grocery_df.shape"
   ]
  },
  {
   "cell_type": "code",
   "execution_count": 5,
   "id": "f154721d-f463-4125-8973-3c3ec2e19019",
   "metadata": {},
   "outputs": [
    {
     "data": {
      "text/html": [
       "<div>\n",
       "<style scoped>\n",
       "    .dataframe tbody tr th:only-of-type {\n",
       "        vertical-align: middle;\n",
       "    }\n",
       "\n",
       "    .dataframe tbody tr th {\n",
       "        vertical-align: top;\n",
       "    }\n",
       "\n",
       "    .dataframe thead th {\n",
       "        text-align: right;\n",
       "    }\n",
       "</style>\n",
       "<table border=\"1\" class=\"dataframe\">\n",
       "  <thead>\n",
       "    <tr style=\"text-align: right;\">\n",
       "      <th></th>\n",
       "      <th>frankfurter</th>\n",
       "      <th>sausage</th>\n",
       "      <th>liver loaf</th>\n",
       "      <th>ham</th>\n",
       "      <th>meat</th>\n",
       "      <th>finished products</th>\n",
       "      <th>organic sausage</th>\n",
       "      <th>chicken</th>\n",
       "      <th>turkey</th>\n",
       "      <th>pork</th>\n",
       "      <th>...</th>\n",
       "      <th>candles</th>\n",
       "      <th>light bulbs</th>\n",
       "      <th>sound storage medium</th>\n",
       "      <th>newspapers</th>\n",
       "      <th>photo/film</th>\n",
       "      <th>pot plants</th>\n",
       "      <th>flower soil/fertilizer</th>\n",
       "      <th>flower (seeds)</th>\n",
       "      <th>shopping bags</th>\n",
       "      <th>bags</th>\n",
       "    </tr>\n",
       "  </thead>\n",
       "  <tbody>\n",
       "    <tr>\n",
       "      <th>0</th>\n",
       "      <td>False</td>\n",
       "      <td>False</td>\n",
       "      <td>False</td>\n",
       "      <td>False</td>\n",
       "      <td>False</td>\n",
       "      <td>False</td>\n",
       "      <td>False</td>\n",
       "      <td>False</td>\n",
       "      <td>False</td>\n",
       "      <td>False</td>\n",
       "      <td>...</td>\n",
       "      <td>False</td>\n",
       "      <td>False</td>\n",
       "      <td>False</td>\n",
       "      <td>False</td>\n",
       "      <td>False</td>\n",
       "      <td>False</td>\n",
       "      <td>False</td>\n",
       "      <td>False</td>\n",
       "      <td>False</td>\n",
       "      <td>False</td>\n",
       "    </tr>\n",
       "    <tr>\n",
       "      <th>1</th>\n",
       "      <td>False</td>\n",
       "      <td>False</td>\n",
       "      <td>False</td>\n",
       "      <td>False</td>\n",
       "      <td>False</td>\n",
       "      <td>False</td>\n",
       "      <td>False</td>\n",
       "      <td>False</td>\n",
       "      <td>False</td>\n",
       "      <td>False</td>\n",
       "      <td>...</td>\n",
       "      <td>False</td>\n",
       "      <td>False</td>\n",
       "      <td>False</td>\n",
       "      <td>False</td>\n",
       "      <td>False</td>\n",
       "      <td>False</td>\n",
       "      <td>False</td>\n",
       "      <td>False</td>\n",
       "      <td>False</td>\n",
       "      <td>False</td>\n",
       "    </tr>\n",
       "    <tr>\n",
       "      <th>2</th>\n",
       "      <td>False</td>\n",
       "      <td>False</td>\n",
       "      <td>False</td>\n",
       "      <td>False</td>\n",
       "      <td>False</td>\n",
       "      <td>False</td>\n",
       "      <td>False</td>\n",
       "      <td>False</td>\n",
       "      <td>False</td>\n",
       "      <td>False</td>\n",
       "      <td>...</td>\n",
       "      <td>False</td>\n",
       "      <td>False</td>\n",
       "      <td>False</td>\n",
       "      <td>False</td>\n",
       "      <td>False</td>\n",
       "      <td>False</td>\n",
       "      <td>False</td>\n",
       "      <td>False</td>\n",
       "      <td>False</td>\n",
       "      <td>False</td>\n",
       "    </tr>\n",
       "    <tr>\n",
       "      <th>3</th>\n",
       "      <td>False</td>\n",
       "      <td>False</td>\n",
       "      <td>False</td>\n",
       "      <td>False</td>\n",
       "      <td>False</td>\n",
       "      <td>False</td>\n",
       "      <td>False</td>\n",
       "      <td>False</td>\n",
       "      <td>False</td>\n",
       "      <td>False</td>\n",
       "      <td>...</td>\n",
       "      <td>False</td>\n",
       "      <td>False</td>\n",
       "      <td>False</td>\n",
       "      <td>False</td>\n",
       "      <td>False</td>\n",
       "      <td>False</td>\n",
       "      <td>False</td>\n",
       "      <td>False</td>\n",
       "      <td>False</td>\n",
       "      <td>False</td>\n",
       "    </tr>\n",
       "    <tr>\n",
       "      <th>4</th>\n",
       "      <td>False</td>\n",
       "      <td>False</td>\n",
       "      <td>False</td>\n",
       "      <td>False</td>\n",
       "      <td>False</td>\n",
       "      <td>False</td>\n",
       "      <td>False</td>\n",
       "      <td>False</td>\n",
       "      <td>False</td>\n",
       "      <td>False</td>\n",
       "      <td>...</td>\n",
       "      <td>False</td>\n",
       "      <td>False</td>\n",
       "      <td>False</td>\n",
       "      <td>False</td>\n",
       "      <td>False</td>\n",
       "      <td>False</td>\n",
       "      <td>False</td>\n",
       "      <td>False</td>\n",
       "      <td>False</td>\n",
       "      <td>False</td>\n",
       "    </tr>\n",
       "  </tbody>\n",
       "</table>\n",
       "<p>5 rows × 169 columns</p>\n",
       "</div>"
      ],
      "text/plain": [
       "   frankfurter  sausage  liver loaf    ham   meat  finished products  \\\n",
       "0        False    False       False  False  False              False   \n",
       "1        False    False       False  False  False              False   \n",
       "2        False    False       False  False  False              False   \n",
       "3        False    False       False  False  False              False   \n",
       "4        False    False       False  False  False              False   \n",
       "\n",
       "   organic sausage  chicken  turkey   pork  ...  candles  light bulbs  \\\n",
       "0            False    False   False  False  ...    False        False   \n",
       "1            False    False   False  False  ...    False        False   \n",
       "2            False    False   False  False  ...    False        False   \n",
       "3            False    False   False  False  ...    False        False   \n",
       "4            False    False   False  False  ...    False        False   \n",
       "\n",
       "   sound storage medium  newspapers  photo/film  pot plants  \\\n",
       "0                 False       False       False       False   \n",
       "1                 False       False       False       False   \n",
       "2                 False       False       False       False   \n",
       "3                 False       False       False       False   \n",
       "4                 False       False       False       False   \n",
       "\n",
       "   flower soil/fertilizer  flower (seeds)  shopping bags   bags  \n",
       "0                   False           False          False  False  \n",
       "1                   False           False          False  False  \n",
       "2                   False           False          False  False  \n",
       "3                   False           False          False  False  \n",
       "4                   False           False          False  False  \n",
       "\n",
       "[5 rows x 169 columns]"
      ]
     },
     "execution_count": 5,
     "metadata": {},
     "output_type": "execute_result"
    }
   ],
   "source": [
    "#Check first few rows of the dataset\n",
    "grocery_df.head()\n"
   ]
  },
  {
   "cell_type": "code",
   "execution_count": 6,
   "id": "ab6eb8e9-84d1-40b0-85c5-10928da0a0d0",
   "metadata": {},
   "outputs": [
    {
     "data": {
      "text/html": [
       "<div>\n",
       "<style scoped>\n",
       "    .dataframe tbody tr th:only-of-type {\n",
       "        vertical-align: middle;\n",
       "    }\n",
       "\n",
       "    .dataframe tbody tr th {\n",
       "        vertical-align: top;\n",
       "    }\n",
       "\n",
       "    .dataframe thead th {\n",
       "        text-align: right;\n",
       "    }\n",
       "</style>\n",
       "<table border=\"1\" class=\"dataframe\">\n",
       "  <thead>\n",
       "    <tr style=\"text-align: right;\">\n",
       "      <th></th>\n",
       "      <th>frankfurter</th>\n",
       "      <th>sausage</th>\n",
       "      <th>liver loaf</th>\n",
       "      <th>ham</th>\n",
       "      <th>meat</th>\n",
       "      <th>finished products</th>\n",
       "      <th>organic sausage</th>\n",
       "      <th>chicken</th>\n",
       "      <th>turkey</th>\n",
       "      <th>pork</th>\n",
       "      <th>...</th>\n",
       "      <th>candles</th>\n",
       "      <th>light bulbs</th>\n",
       "      <th>sound storage medium</th>\n",
       "      <th>newspapers</th>\n",
       "      <th>photo/film</th>\n",
       "      <th>pot plants</th>\n",
       "      <th>flower soil/fertilizer</th>\n",
       "      <th>flower (seeds)</th>\n",
       "      <th>shopping bags</th>\n",
       "      <th>bags</th>\n",
       "    </tr>\n",
       "  </thead>\n",
       "  <tbody>\n",
       "    <tr>\n",
       "      <th>False</th>\n",
       "      <td>9255</td>\n",
       "      <td>8911</td>\n",
       "      <td>9785</td>\n",
       "      <td>9579</td>\n",
       "      <td>9581</td>\n",
       "      <td>9771</td>\n",
       "      <td>9813</td>\n",
       "      <td>9413</td>\n",
       "      <td>9755</td>\n",
       "      <td>9268</td>\n",
       "      <td>...</td>\n",
       "      <td>9747</td>\n",
       "      <td>9794</td>\n",
       "      <td>9834</td>\n",
       "      <td>9050</td>\n",
       "      <td>9744</td>\n",
       "      <td>9665</td>\n",
       "      <td>9816</td>\n",
       "      <td>9733</td>\n",
       "      <td>8866</td>\n",
       "      <td>9831</td>\n",
       "    </tr>\n",
       "    <tr>\n",
       "      <th>True</th>\n",
       "      <td>580</td>\n",
       "      <td>924</td>\n",
       "      <td>50</td>\n",
       "      <td>256</td>\n",
       "      <td>254</td>\n",
       "      <td>64</td>\n",
       "      <td>22</td>\n",
       "      <td>422</td>\n",
       "      <td>80</td>\n",
       "      <td>567</td>\n",
       "      <td>...</td>\n",
       "      <td>88</td>\n",
       "      <td>41</td>\n",
       "      <td>1</td>\n",
       "      <td>785</td>\n",
       "      <td>91</td>\n",
       "      <td>170</td>\n",
       "      <td>19</td>\n",
       "      <td>102</td>\n",
       "      <td>969</td>\n",
       "      <td>4</td>\n",
       "    </tr>\n",
       "  </tbody>\n",
       "</table>\n",
       "<p>2 rows × 169 columns</p>\n",
       "</div>"
      ],
      "text/plain": [
       "       frankfurter  sausage  liver loaf   ham  meat  finished products  \\\n",
       "False         9255     8911        9785  9579  9581               9771   \n",
       "True           580      924          50   256   254                 64   \n",
       "\n",
       "       organic sausage  chicken  turkey  pork  ...  candles  light bulbs  \\\n",
       "False             9813     9413    9755  9268  ...     9747         9794   \n",
       "True                22      422      80   567  ...       88           41   \n",
       "\n",
       "       sound storage medium  newspapers  photo/film  pot plants  \\\n",
       "False                  9834        9050        9744        9665   \n",
       "True                      1         785          91         170   \n",
       "\n",
       "       flower soil/fertilizer  flower (seeds)  shopping bags  bags  \n",
       "False                    9816            9733           8866  9831  \n",
       "True                       19             102            969     4  \n",
       "\n",
       "[2 rows x 169 columns]"
      ]
     },
     "execution_count": 6,
     "metadata": {},
     "output_type": "execute_result"
    }
   ],
   "source": [
    "# Number of True's and False's in the dataset\n",
    "grocery_df.apply(pd.Series.value_counts)\n"
   ]
  },
  {
   "cell_type": "code",
   "execution_count": 7,
   "id": "531792ee-9527-4201-8ebd-a973afe76707",
   "metadata": {},
   "outputs": [
    {
     "name": "stdout",
     "output_type": "stream",
     "text": [
      "Missing values in the dataset:\n"
     ]
    },
    {
     "data": {
      "text/plain": [
       "frankfurter               0\n",
       "sausage                   0\n",
       "liver loaf                0\n",
       "ham                       0\n",
       "meat                      0\n",
       "                         ..\n",
       "pot plants                0\n",
       "flower soil/fertilizer    0\n",
       "flower (seeds)            0\n",
       "shopping bags             0\n",
       "bags                      0\n",
       "Length: 169, dtype: int64"
      ]
     },
     "execution_count": 7,
     "metadata": {},
     "output_type": "execute_result"
    }
   ],
   "source": [
    "# Checking for missing values\n",
    "print(\"Missing values in the dataset:\")\n",
    "grocery_df.isnull().sum()\n"
   ]
  },
  {
   "cell_type": "markdown",
   "id": "0a54a223-5f96-4742-aa38-522261dfd838",
   "metadata": {},
   "source": [
    "## Apriori"
   ]
  },
  {
   "cell_type": "code",
   "execution_count": 15,
   "id": "dd95c8df-b618-4b33-8f4c-24fc81e66169",
   "metadata": {},
   "outputs": [
    {
     "name": "stdout",
     "output_type": "stream",
     "text": [
      "Apriori Algorithm Execution Time: 0.4960486888885498\n",
      "Top 5 Apriori Rules:\n",
      "                            antecedents         consequents   support  \\\n",
      "155    (root vegetables, citrus fruit)  (other vegetables)  0.010371   \n",
      "162  (root vegetables, tropical fruit)  (other vegetables)  0.012303   \n",
      "225                     (curd, yogurt)        (whole milk)  0.010066   \n",
      "198         (butter, other vegetables)        (whole milk)  0.011490   \n",
      "166  (root vegetables, tropical fruit)        (whole milk)  0.011998   \n",
      "\n",
      "     confidence      lift  \n",
      "155    0.586207  3.029608  \n",
      "162    0.584541  3.020999  \n",
      "225    0.582353  2.279125  \n",
      "198    0.573604  2.244885  \n",
      "166    0.570048  2.230969  \n"
     ]
    }
   ],
   "source": [
    "# Applying the Apriori algorithm to a grocery dataset\n",
    "\n",
    "start_time = time.time()\n",
    "\n",
    "\n",
    "frequent_itemsets_apriori = apriori(grocery_df, min_support=0.01, use_colnames=True)\n",
    "rules_apriori = association_rules(frequent_itemsets_apriori, metric=\"confidence\", min_threshold= 0.2)\n",
    "\n",
    "\n",
    "end_time = time.time()\n",
    "apriori_time = end_time - start_time\n",
    "print(\"Apriori Algorithm Execution Time:\", apriori_time)\n",
    "\n",
    "\n",
    "top_5_rules_apriori = rules_apriori.nlargest(5, 'confidence')\n",
    "print(\"Top 5 Apriori Rules:\\n\", top_5_rules_apriori[['antecedents', 'consequents', 'support', 'confidence', 'lift']])\n"
   ]
  },
  {
   "cell_type": "markdown",
   "id": "9456cc03-a599-4671-a07c-da5f6e456f4f",
   "metadata": {},
   "source": [
    "###  The Apriori algorithm was applied to the dataset to identify frequent itemsets. It uses a bottom-up approach and works by generating candidate itemsets and pruning those that do not meet the minimum support threshold. The resulting frequent itemsets were then used to generate association rules with metrics such as support, confidence, and lift.\n",
    "\n",
    "**Key Insights from Apriori Output:**\n",
    "\n",
    "- The **top 5 association rules** from Apriori show high lift and confidence, indicating strong relationships between items in the dataset.\n",
    "- **Example Rule**: If a customer buys \"butter\" and \"other vegetables\", they are likely to purchase \"whole milk\" as well. The confidence of this rule is **0.573604**, and the lift is **2.244885**, suggesting that this combination of products occurs significantly more often than by random chance.\n",
    "\n",
    "**Top 5 Rules (Apriori)**:\n",
    "\n",
    "| Antecedents                  | Consequents        | Support  | Confidence | Lift     |\n",
    "|------------------------------|--------------------|----------|------------|----------|\n",
    "| (citrus fruit, root vegetables) | (other vegetables) | 0.010371 | 0.586207   | 3.029608 |\n",
    "| (tropical fruit, root vegetables) | (other vegetables) | 0.012303 | 0.584541   | 3.020999 |\n",
    "| (curd, yogurt)                | (whole milk)       | 0.010066 | 0.582353   | 2.279125 |\n",
    "| (butter, other vegetables)    | (whole milk)       | 0.011490 | 0.573604   | 2.244885 |\n",
    "| (tropical fruit, root vegetables) | (whole milk)       | 0.011998 | 0.570048   | 2.230969 |"
   ]
  },
  {
   "cell_type": "code",
   "execution_count": 16,
   "id": "2adc93e3-0d3d-4d03-ac63-e6c74363d72d",
   "metadata": {},
   "outputs": [
    {
     "data": {
      "image/png": "[encoded data removed]",
      "text/plain": [
       "<Figure size 640x480 with 1 Axes>"
      ]
     },
     "metadata": {},
     "output_type": "display_data"
    }
   ],
   "source": [
    "# Filtering and visualizing the top 10 frequent itemsets:\n",
    "\n",
    "frequent_itemsets = frequent_itemsets_apriori[frequent_itemsets_apriori['itemsets'].apply(len) > 1]\n",
    "\n",
    "\n",
    "frequent_itemsets.nlargest(10, 'support').plot(kind='barh', x='itemsets', y='support',color='orange', title='Top 10 Frequent Itemsets')\n",
    "plt.xlabel('Support')\n",
    "plt.show()\n"
   ]
  },
  {
   "cell_type": "markdown",
   "id": "7591a834-de3b-4476-97ff-0ff37b226388",
   "metadata": {},
   "source": [
    "## FP Growth"
   ]
  },
  {
   "cell_type": "code",
   "execution_count": 17,
   "id": "495ac810-3867-4cfd-9bd6-f06d4cc9493e",
   "metadata": {},
   "outputs": [
    {
     "name": "stdout",
     "output_type": "stream",
     "text": [
      "FP Growth Algorithm Execution Time: 0.3613588809967041\n",
      "Top 5 FP Growth Rules:\n",
      "                            antecedents         consequents   support  \\\n",
      "10     (root vegetables, citrus fruit)  (other vegetables)  0.010371   \n",
      "50   (root vegetables, tropical fruit)  (other vegetables)  0.012303   \n",
      "108                     (curd, yogurt)        (whole milk)  0.010066   \n",
      "78          (butter, other vegetables)        (whole milk)  0.011490   \n",
      "54   (root vegetables, tropical fruit)        (whole milk)  0.011998   \n",
      "\n",
      "     confidence      lift  \n",
      "10     0.586207  3.029608  \n",
      "50     0.584541  3.020999  \n",
      "108    0.582353  2.279125  \n",
      "78     0.573604  2.244885  \n",
      "54     0.570048  2.230969  \n"
     ]
    }
   ],
   "source": [
    "#Applying the FP Growth algorithm to a grocery dataset\n",
    "\n",
    "\n",
    "start_time = time.time()\n",
    "\n",
    "\n",
    "frequent_itemsets_fpgrowth = fpgrowth(grocery_df, min_support=0.01, use_colnames=True)\n",
    "rules_fpgrowth = association_rules(frequent_itemsets_fpgrowth, metric=\"confidence\", min_threshold=0.2)\n",
    "\n",
    "\n",
    "end_time = time.time()\n",
    "fpgrowth_time = end_time - start_time\n",
    "print(\"FP Growth Algorithm Execution Time:\", fpgrowth_time)\n",
    "\n",
    "\n",
    "top_5_rules_fpgrowth = rules_fpgrowth.nlargest(5, 'confidence')\n",
    "print(\"Top 5 FP Growth Rules:\\n\", top_5_rules_fpgrowth[['antecedents', 'consequents', 'support', 'confidence', 'lift']])\n"
   ]
  },
  {
   "cell_type": "markdown",
   "id": "19e9ef53-27f3-47ba-a0ea-6dca519b5ca1",
   "metadata": {},
   "source": [
    "### The FP Growth algorithm was applied to the same dataset, and unlike Apriori, it uses a tree-based structure (FP-tree) to efficiently find frequent itemsets without generating candidate itemsets. This method is more efficient, particularly for large datasets, because it reduces the number of scans required.\n",
    "\n",
    "**Key Insights from FP Growth Output:**\n",
    "\n",
    "- The **top 5 association rules** from FP Growth show similar item combinations to the Apriori output, but with slightly different support values.\n",
    "- **Example Rule**: \"Tropical fruit\" and \"root vegetables\" are likely to be purchased together with \"other vegetables\", with a confidence of **0.584541** and a lift of **3.020999**, which is similar to the Apriori result.\n",
    "  \n",
    "**Top 5 Rules (FP Growth)**:\n",
    "\n",
    "| Antecedents                  | Consequents        | Support  | Confidence | Lift     |\n",
    "|------------------------------|--------------------|----------|------------|----------|\n",
    "| (citrus fruit, root vegetables) | (other vegetables) | 0.010371 | 0.586207   | 3.029608 |\n",
    "| (tropical fruit, root vegetables) | (other vegetables) | 0.012303 | 0.584541   | 3.020999 |\n",
    "| (curd, yogurt)                | (whole milk)       | 0.010066 | 0.582353   | 2.279125 |\n",
    "| (butter, other vegetables)    | (whole milk)       | 0.011490 | 0.573604   | 2.244885 |\n",
    "| (tropical fruit, root vegetables) | (whole milk)       | 0.011998 | 0.570048   | 2.230969 |"
   ]
  },
  {
   "cell_type": "code",
   "execution_count": 18,
   "id": "d5c84251-aa74-4223-aa87-1677c31f59b9",
   "metadata": {},
   "outputs": [
    {
     "data": {
      "image/png": "[encoded data removed]",
      "text/plain": [
       "<Figure size 640x480 with 1 Axes>"
      ]
     },
     "metadata": {},
     "output_type": "display_data"
    }
   ],
   "source": [
    "# Filtering and visualizing the top 10 frequent itemsets\n",
    "frequent_itemsets = frequent_itemsets_apriori[frequent_itemsets_apriori['itemsets'].apply(len) > 1]\n",
    "\n",
    "\n",
    "frequent_itemsets.nlargest(10, 'support').plot(kind='barh', x='itemsets', y='support', color='purple', title='Top 10 Frequent Itemsets')\n",
    "plt.xlabel('Support')\n",
    "plt.show()\n"
   ]
  },
  {
   "cell_type": "markdown",
   "id": "8b226464-c75f-429c-a96a-d0021e1c2acb",
   "metadata": {},
   "source": [
    "### Speed Comparision"
   ]
  },
  {
   "cell_type": "code",
   "execution_count": 19,
   "id": "117836be-4e37-444a-90d9-94f69f805ac0",
   "metadata": {},
   "outputs": [
    {
     "name": "stdout",
     "output_type": "stream",
     "text": [
      "\n",
      "Performance Comparison:\n",
      "Apriori Time: 0.4960486888885498 seconds, Rules Generated: 234\n",
      "FP Growth Time: 0.3613588809967041 seconds, Rules Generated: 234\n",
      "Recommendation: FP Growth for better speed.\n"
     ]
    }
   ],
   "source": [
    "# Compare Apriori and FP Growth based on speed and number of rules\n",
    "print(\"\\nPerformance Comparison:\")\n",
    "print(f\"Apriori Time: {apriori_time} seconds, Rules Generated: {len(rules_apriori)}\")\n",
    "print(f\"FP Growth Time: {fpgrowth_time} seconds, Rules Generated: {len(rules_fpgrowth)}\")\n",
    "\n",
    "if apriori_time < fpgrowth_time:\n",
    "    print(\"Recommendation: Apriori for better speed.\")\n",
    "else:\n",
    "    print(\"Recommendation: FP Growth for better speed.\")\n"
   ]
  },
  {
   "cell_type": "markdown",
   "id": "e01ce6ef-b01a-4277-879f-0c9bb5a50cbf",
   "metadata": {},
   "source": [
    "# Comparison of Apriori and FP Growth\n",
    "\n",
    "### Efficiency:\n",
    "- **Apriori** is slower than **FP Growth** because it generates a large number of candidate itemsets, which must be tested in multiple passes over the data. In contrast, **FP Growth** uses a compact tree structure (FP-tree) to efficiently store itemsets, leading to faster processing.\n",
    "  \n",
    "### Rule Generation:\n",
    "- Both algorithms produced similar rules in terms of the product combinations found. However, **FP Growth** was more efficient in finding these rules as it avoids the multiple passes required by Apriori.\n",
    "  \n",
    "### Execution Time:\n",
    "- The execution time for **FP Growth** was significantly lower (0.361 seconds) compared to Apriori, which usually takes longer due to its iterative nature of generating and testing candidate itemsets.\n",
    "\n",
    "### Memory Usage:\n",
    "- **FP Growth** generally uses less memory, as it avoids generating numerous candidate sets, which are stored in memory in the Apriori method."
   ]
  },
  {
   "cell_type": "markdown",
   "id": "f0ab367c-9051-45a5-a163-3fd09aa26b4d",
   "metadata": {},
   "source": [
    "# Rule Interpretation\n",
    "\n",
    "The top association rules from both Apriori and FP Growth were analyzed. Here are some insights:\n",
    "\n",
    "1. **(citrus fruit, root vegetables) -> other vegetables**:\n",
    "   - **Interpretation**: This rule suggests that customers who purchase citrus fruit and root vegetables are highly likely to purchase other vegetables as well. This could be due to common meal preparation patterns that require multiple types of vegetables.\n",
    "\n",
    "2. **(curd, yogurt) -> whole milk**:\n",
    "   - **Interpretation**: This rule indicates that customers who buy curd and yogurt are likely to also buy whole milk, suggesting a common shopping behavior for dairy products. This insight can be used to promote dairy-related bundles.\n",
    "\n",
    "3. **(butter, other vegetables) -> whole milk**:\n",
    "   - **Interpretation**: Customers buying butter and other vegetables are likely to also purchase whole milk. This could indicate that butter and vegetables are often used together in cooking recipes, with milk as a complementary product."
   ]
  },
  {
   "cell_type": "markdown",
   "id": "fd433c6b-8c82-4a8b-9121-a6edf5e6e581",
   "metadata": {},
   "source": [
    "# Promotional Strategy Based on Association Rules\n",
    "\n",
    "### 1. Cross-Selling Strategy\n",
    "Using the discovered association rules, create product bundles that encourage customers to buy complementary items together.\n",
    "\n",
    "- **Bundle 1**: *Citrus Fruit, Root Vegetables, and Other Vegetables*  \n",
    "  - **Promotion**: Offer a small discount (e.g., 10%) on “other vegetables” when customers buy both citrus fruit and root vegetables. Label it as a “Fresh Produce Bundle” to attract health-conscious shoppers.\n",
    "  \n",
    "- **Bundle 2**: *Curd, Yogurt, and Whole Milk*  \n",
    "  - **Promotion**: Offer a “Dairy Delight” package, where customers buying curd and yogurt get a discount on whole milk. This bundle could appeal to families who purchase dairy products regularly.\n",
    "\n",
    "### 2. Targeted Promotions\n",
    "Provide targeted discounts on products frequently bought together to increase sales of related items.\n",
    "\n",
    "- **Targeted Promotion 1**:  \n",
    "  - **Trigger Item**: Butter and Other Vegetables  \n",
    "  - **Discount Item**: Whole Milk  \n",
    "  - **Promotion**: Offer a discount on whole milk for customers purchasing butter and other vegetables, possibly under a campaign like “Cook Up Savings” aimed at people preparing meals that include these ingredients.\n",
    "\n",
    "- **Targeted Promotion 2**:  \n",
    "  - **Trigger Item**: Tropical Fruit and Root Vegetables  \n",
    "  - **Discount Item**: Other Vegetables  \n",
    "  - **Promotion**: For customers buying tropical fruit and root vegetables, offer a discount on other vegetables. This promotion could be seasonal or marketed as a “Fresh Essentials” package.\n",
    "\n",
    "### 3. Marketing Campaigns\n",
    "Design campaigns based on these frequently bought-together products to drive interest and increase customer loyalty.\n",
    "\n",
    "- **Campaign 1: Dairy Essentials**  \n",
    "  - **Focus**: Highlight the convenience and savings of purchasing all dairy essentials at once.\n",
    "  - **Promotion**: Create a limited-time campaign with discounts on various dairy combinations, using the rules connecting curd, yogurt, and whole milk. This could attract regular dairy shoppers and families.\n",
    "\n",
    "- **Campaign 2: Fresh & Nutritious**  \n",
    "  - **Focus**: Promote vegetable and fruit bundles, inspired by rules linking citrus fruit, root vegetables, and other vegetables.  \n",
    "  - **Promotion**: Design a campaign around seasonal produce, emphasizing health and nutrition benefits, with discounts on multi-item produce bundles that change weekly. "
   ]
  },
  {
   "cell_type": "markdown",
   "id": "75c9d291-9f79-40f6-9fa8-a2a5c8c2b232",
   "metadata": {},
   "source": [
    "# Limitations and Future Improvements\n",
    "\n",
    "### Dataset Limitations\n",
    "1. **Sparsity and Size**: The dataset may include many unique items purchased infrequently, leading to sparse data that can affect the reliability of association rule mining. This sparsity limits the algorithms' ability to generate strong, meaningful rules.\n",
    "\n",
    "2. **Lack of Temporal Information**: The dataset likely does not account for seasonality or temporal patterns in purchasing, which could be valuable for understanding trends over time (e.g., holidays, weekends).\n",
    "\n",
    "3. **Product Categorization**: Products may not be categorized, which limits insights into broader patterns (e.g., different types of fruits or dairy products). Grouping items into categories could allow for more general rules that are still actionable for promotions.\n",
    "\n",
    "4. **Customer Demographics**: Without demographic data, it’s challenging to tailor promotions to specific customer segments. Incorporating customer information would allow for more targeted recommendations.\n",
    "\n",
    "### Algorithm Limitations\n",
    "1. **Efficiency Constraints**: While both the Apriori and FP-Growth algorithms generate association rules, Apriori can be computationally intensive with large datasets due to its iterative approach. This can impact processing time for massive grocery datasets, making FP-Growth generally preferable for efficiency.\n",
    "\n",
    "2. **Support-Confidence Trade-off**: Both algorithms rely on support and confidence thresholds, but these thresholds may result in missing less frequent but potentially valuable associations. Fine-tuning these parameters is necessary, but it may still overlook valuable insights.\n",
    "\n",
    "3. **Interpretability of Rules**: Some generated rules may have high support but lack practical interpretability, meaning that while items are frequently bought together, they may not offer clear insights for actionable promotions.\n",
    "\n",
    "### Proposed Improvements for Future Analysis\n",
    "1. **Implement Category-Based Analysis**: Grouping items into categories (e.g., fruits, dairy, snacks) could yield broader insights and actionable patterns that are easier to apply in marketing strategies.\n",
    "\n",
    "2. **Incorporate Temporal Analysis**: Adding temporal information would enable time-based analysis, helping to capture seasonal trends or specific periods of high demand, which could lead to more precise and profitable promotions.\n",
    "\n",
    "3. **Utilize Demographic Segmentation**: Integrating customer demographic data could facilitate the creation of tailored promotional campaigns based on age, preferences, or location, making the rules more actionable and impactful.\n",
    "\n",
    "4. **Optimize Parameter Tuning**: Experimenting with different support, confidence, and lift thresholds—possibly using cross-validation techniques—could help refine the generated rules, balancing between discovering useful insights and managing computational efficiency.\n",
    "\n",
    "5. **Apply Advanced Algorithms**: Exploring other data mining approaches, such as clustering for customer segmentation or machine learning models, could complement association rule mining to uncover deeper insights.\n",
    "\n",
    "### Additional Insights and Reflections\n",
    "- **Actionable Patterns**: The generated association rules, particularly around dairy and fresh produce, highlight predictable patterns in grocery purchases that align with common consumption habits. These insights are valuable for designing promotions that align with daily or weekly shopping routines.\n",
    "\n",
    "- **Comparative Efficiency**: FP-Growth outperformed Apriori in terms of speed while generating similar rules, making it a preferred choice for large datasets. However, both algorithms provided consistent insights, reinforcing the validity of the discovered patterns.\n",
    "\n",
    "- **Practical Implications**: While association rule mining is effective for identifying co-purchased items, it may not capture causative relationships. For example, a rule indicating that customers often buy butter and vegetables may result from a variety of unrelated motivations (meal prep, seasonal needs), which needs consideration when crafting targeted promotions.\n"
   ]
  },
  {
   "cell_type": "code",
   "execution_count": null,
   "id": "5fb6add6-ba1d-48f1-a345-3bfb8dd1aa87",
   "metadata": {},
   "outputs": [],
   "source": []
  },
  {
   "cell_type": "code",
   "execution_count": null,
   "id": "0004e4cc-fcbd-4e9e-952a-23e2397647a3",
   "metadata": {},
   "outputs": [],
   "source": []
  }
 ],
 "metadata": {
  "kernelspec": {
   "display_name": "Python 3 (ipykernel)",
   "language": "python",
   "name": "python3"
  },
  "language_info": {
   "codemirror_mode": {
    "name": "ipython",
    "version": 3
   },
   "file_extension": ".py",
   "mimetype": "text/x-python",
   "name": "python",
   "nbconvert_exporter": "python",
   "pygments_lexer": "ipython3",
   "version": "3.11.7"
  }
 },
 "nbformat": 4,
 "nbformat_minor": 5
}
